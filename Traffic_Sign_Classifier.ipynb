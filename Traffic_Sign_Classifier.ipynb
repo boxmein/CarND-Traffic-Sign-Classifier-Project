{
 "cells": [
  {
   "cell_type": "markdown",
   "metadata": {
    "deletable": true,
    "editable": true
   },
   "source": [
    "# Self-Driving Car Engineer Nanodegree\n",
    "\n",
    "## Deep Learning\n",
    "\n",
    "## Project: Build a Traffic Sign Recognition Classifier\n",
    "\n",
    "In this notebook, a template is provided for you to implement your functionality in stages, which is required to successfully complete this project. If additional code is required that cannot be included in the notebook, be sure that the Python code is successfully imported and included in your submission if necessary. \n",
    "\n",
    "> **Note**: Once you have completed all of the code implementations, you need to finalize your work by exporting the iPython Notebook as an HTML document. Before exporting the notebook to html, all of the code cells need to have been run so that reviewers can see the final implementation and output. You can then export the notebook by using the menu above and navigating to  \\n\",\n",
    "    \"**File -> Download as -> HTML (.html)**. Include the finished document along with this notebook as your submission. \n",
    "\n",
    "In addition to implementing code, there is a writeup to complete. The writeup should be completed in a separate file, which can be either a markdown file or a pdf document. There is a [write up template](https://github.com/udacity/CarND-Traffic-Sign-Classifier-Project/blob/master/writeup_template.md) that can be used to guide the writing process. Completing the code template and writeup template will cover all of the [rubric points](https://review.udacity.com/#!/rubrics/481/view) for this project.\n",
    "\n",
    "The [rubric](https://review.udacity.com/#!/rubrics/481/view) contains \"Stand Out Suggestions\" for enhancing the project beyond the minimum requirements. The stand out suggestions are optional. If you decide to pursue the \"stand out suggestions\", you can include the code in this Ipython notebook and also discuss the results in the writeup file.\n",
    "\n",
    "\n",
    ">**Note:** Code and Markdown cells can be executed using the **Shift + Enter** keyboard shortcut. In addition, Markdown cells can be edited by typically double-clicking the cell to enter edit mode."
   ]
  },
  {
   "cell_type": "markdown",
   "metadata": {
    "deletable": true,
    "editable": true
   },
   "source": [
    "---\n",
    "## Step 0: Load The Data"
   ]
  },
  {
   "cell_type": "code",
   "execution_count": 1,
   "metadata": {
    "collapsed": false,
    "deletable": true,
    "editable": true
   },
   "outputs": [],
   "source": [
    "# Load pickled data\n",
    "import pickle\n",
    "import numpy as np\n",
    "\n",
    "# TODO: Fill this in based on where you saved the training and testing data\n",
    "\n",
    "training_file = \"train.p\"\n",
    "validation_file= \"valid.p\"\n",
    "testing_file = \"test.p\"\n",
    "\n",
    "with open(training_file, mode='rb') as f:\n",
    "    train = pickle.load(f)\n",
    "with open(validation_file, mode='rb') as f:\n",
    "    valid = pickle.load(f)\n",
    "with open(testing_file, mode='rb') as f:\n",
    "    test = pickle.load(f)\n",
    "    \n",
    "X_train_original, y_train_original = train['features'], train['labels']\n",
    "X_valid_original, y_valid_original = valid['features'], valid['labels']\n",
    "X_test_original, y_test_original = test['features'], test['labels']"
   ]
  },
  {
   "cell_type": "markdown",
   "metadata": {
    "deletable": true,
    "editable": true
   },
   "source": [
    "---\n",
    "\n",
    "## Step 1: Dataset Summary & Exploration\n",
    "\n",
    "The pickled data is a dictionary with 4 key/value pairs:\n",
    "\n",
    "- `'features'` is a 4D array containing raw pixel data of the traffic sign images, (num examples, width, height, channels).\n",
    "- `'labels'` is a 1D array containing the label/class id of the traffic sign. The file `signnames.csv` contains id -> name mappings for each id.\n",
    "- `'sizes'` is a list containing tuples, (width, height) representing the the original width and height the image.\n",
    "- `'coords'` is a list containing tuples, (x1, y1, x2, y2) representing coordinates of a bounding box around the sign in the image. **THESE COORDINATES ASSUME THE ORIGINAL IMAGE. THE PICKLED DATA CONTAINS RESIZED VERSIONS (32 by 32) OF THESE IMAGES**\n",
    "\n",
    "Complete the basic data summary below. Use python, numpy and/or pandas methods to calculate the data summary rather than hard coding the results. For example, the [pandas shape method](http://pandas.pydata.org/pandas-docs/stable/generated/pandas.DataFrame.shape.html) might be useful for calculating some of the summary results. "
   ]
  },
  {
   "cell_type": "markdown",
   "metadata": {
    "deletable": true,
    "editable": true
   },
   "source": [
    "### Provide a Basic Summary of the Data Set Using Python, Numpy and/or Pandas"
   ]
  },
  {
   "cell_type": "code",
   "execution_count": 35,
   "metadata": {
    "collapsed": false,
    "deletable": true,
    "editable": true,
    "scrolled": false
   },
   "outputs": [
    {
     "name": "stdout",
     "output_type": "stream",
     "text": [
      "Number of training examples = 34799\n",
      "Number of testing examples = 12630\n",
      "Number of validation examples = 4410\n",
      "Image data shape = (32, 32, 3)\n",
      "Number of classes = 43\n"
     ]
    }
   ],
   "source": [
    "### Replace each question mark with the appropriate value. \n",
    "### Use python, pandas or numpy methods rather than hard coding the results\n",
    "\n",
    "# TODO: Number of training examples\n",
    "n_train = len(X_train_original)\n",
    "\n",
    "# TODO: Number of testing examples.\n",
    "n_test = len(X_test_original)\n",
    "\n",
    "# TODO: What's the shape of an traffic sign image?\n",
    "image_shape = np.array(X_train_original[0]).shape\n",
    "\n",
    "# TODO: How many unique classes/labels there are in the dataset.\n",
    "n_classes = len(set(y_train_original))\n",
    "\n",
    "print(\"Number of training examples =\", n_train)\n",
    "print(\"Number of testing examples =\", n_test)\n",
    "print(\"Number of validation examples =\", len(X_valid_original))\n",
    "print(\"Image data shape =\", image_shape)\n",
    "print(\"Number of classes =\", n_classes)"
   ]
  },
  {
   "cell_type": "markdown",
   "metadata": {
    "deletable": true,
    "editable": true
   },
   "source": [
    "### Include an exploratory visualization of the dataset"
   ]
  },
  {
   "cell_type": "markdown",
   "metadata": {
    "deletable": true,
    "editable": true
   },
   "source": [
    "Visualize the German Traffic Signs Dataset using the pickled file(s). This is open ended, suggestions include: plotting traffic sign images, plotting the count of each sign, etc.\n",
    "\n",
    "The [Matplotlib](http://matplotlib.org/) [examples](http://matplotlib.org/examples/index.html) and [gallery](http://matplotlib.org/gallery.html) pages are a great resource for doing visualizations in Python.\n",
    "\n",
    "**NOTE:** It's recommended you start with something simple first. If you wish to do more, come back to it after you've completed the rest of the sections."
   ]
  },
  {
   "cell_type": "code",
   "execution_count": 10,
   "metadata": {
    "collapsed": false,
    "deletable": true,
    "editable": true
   },
   "outputs": [
    {
     "name": "stdout",
     "output_type": "stream",
     "text": [
      "\n"
     ]
    },
    {
     "data": {
      "image/png": "[encoded data removed]",
      "text/plain": [
       "<matplotlib.figure.Figure at 0x7fa34568feb8>"
      ]
     },
     "metadata": {},
     "output_type": "display_data"
    },
    {
     "data": {
      "image/png": "[encoded data removed]",
      "text/plain": [
       "<matplotlib.figure.Figure at 0x7fa34841c278>"
      ]
     },
     "metadata": {},
     "output_type": "display_data"
    }
   ],
   "source": [
    "### Data exploration visualization code goes here.\n",
    "### Feel free to use as many code cells as needed.\n",
    "import random\n",
    "import matplotlib.pyplot as plt\n",
    "# Visualizations will be shown in the notebook.\n",
    "%matplotlib inline\n",
    "\n",
    "plt.imshow(X_train_original[random.randrange(n_train)])\n",
    "\n",
    "plt.figure()\n",
    "\n",
    "plt.hist(y_train_original, 43)\n",
    "\n",
    "print()"
   ]
  },
  {
   "cell_type": "markdown",
   "metadata": {
    "deletable": true,
    "editable": true
   },
   "source": [
    "----\n",
    "\n",
    "## Step 2: Design and Test a Model Architecture\n",
    "\n",
    "Design and implement a deep learning model that learns to recognize traffic signs. Train and test your model on the [German Traffic Sign Dataset](http://benchmark.ini.rub.de/?section=gtsrb&subsection=dataset).\n",
    "\n",
    "There are various aspects to consider when thinking about this problem:\n",
    "\n",
    "- Neural network architecture\n",
    "- Play around preprocessing techniques (normalization, rgb to grayscale, etc)\n",
    "- Number of examples per label (some have more than others).\n",
    "- Generate fake data.\n",
    "\n",
    "Here is an example of a [published baseline model on this problem](http://yann.lecun.com/exdb/publis/pdf/sermanet-ijcnn-11.pdf). It's not required to be familiar with the approach used in the paper but, it's good practice to try to read papers like these.\n",
    "\n",
    "**NOTE:** The LeNet-5 implementation shown in the [classroom](https://classroom.udacity.com/nanodegrees/nd013/parts/fbf77062-5703-404e-b60c-95b78b2f3f9e/modules/6df7ae49-c61c-4bb2-a23e-6527e69209ec/lessons/601ae704-1035-4287-8b11-e2c2716217ad/concepts/d4aca031-508f-4e0b-b493-e7b706120f81) at the end of the CNN lesson is a solid starting point. You'll have to change the number of classes and possibly the preprocessing, but aside from that it's plug and play!"
   ]
  },
  {
   "cell_type": "markdown",
   "metadata": {
    "deletable": true,
    "editable": true
   },
   "source": [
    "### Pre-process the Data Set (normalization, grayscale, etc.)"
   ]
  },
  {
   "cell_type": "markdown",
   "metadata": {
    "deletable": true,
    "editable": true
   },
   "source": [
    "Use the code cell (or multiple code cells, if necessary) to implement the first step of your project."
   ]
  },
  {
   "cell_type": "code",
   "execution_count": 11,
   "metadata": {
    "collapsed": false,
    "deletable": true,
    "editable": true
   },
   "outputs": [],
   "source": [
    "# Color Jitter Augment from https://github.com/dmilc/mxnet/blob/master/python/mxnet/image.py\n",
    "import random\n",
    "def RandomOrderAug(ts):\n",
    "    \"\"\"Apply list of augmenters in random order\"\"\"\n",
    "    def aug(src):\n",
    "        \"\"\"Augumenter body\"\"\"\n",
    "        src = [src]\n",
    "        random.shuffle(ts)\n",
    "        for t in ts:\n",
    "            src = [j for i in src for j in t(i)]\n",
    "        return src\n",
    "    return aug\n",
    "\n",
    "def ColorJitterAug(brightness, contrast, saturation):\n",
    "    \"\"\"Apply random brightness, contrast and saturation jitter in random order\"\"\"\n",
    "    ts = []\n",
    "    coef = np.array([[[0.299, 0.587, 0.114]]])\n",
    "    if brightness > 0:\n",
    "        def baug(source):\n",
    "            \"\"\"Augumenter body\"\"\"\n",
    "            src = source.copy()\n",
    "            alpha = 1.0 + random.uniform(-brightness, brightness)\n",
    "            src *= alpha\n",
    "            return [src]\n",
    "        ts.append(baug)\n",
    "\n",
    "    if contrast > 0:\n",
    "        def caug(source):\n",
    "            \"\"\"Augumenter body\"\"\"\n",
    "            src = source.copy()\n",
    "            alpha = 1.0 + random.uniform(-contrast, contrast)\n",
    "            gray = src*coef\n",
    "            gray = (3.0*(1.0-alpha)/gray.size)*np.sum(gray)\n",
    "            src *= alpha\n",
    "            src += gray\n",
    "            return [src]\n",
    "        ts.append(caug)\n",
    "\n",
    "    if saturation > 0:\n",
    "        def saug(source):\n",
    "            \"\"\"Augumenter body\"\"\"\n",
    "            src = source.copy()\n",
    "            alpha = 1.0 + random.uniform(-saturation, saturation)\n",
    "            gray = src*coef\n",
    "            gray = np.sum(gray, axis=2, keepdims=True)\n",
    "            gray *= (1.0-alpha)\n",
    "            src *= alpha\n",
    "            src += gray\n",
    "            return [src]\n",
    "        ts.append(saug)\n",
    "    return RandomOrderAug(ts)\n",
    "\n",
    "\n",
    "color_jitter = ColorJitterAug(0.5, 0.5, 0.5)"
   ]
  },
  {
   "cell_type": "code",
   "execution_count": 12,
   "metadata": {
    "collapsed": false,
    "deletable": true,
    "editable": true
   },
   "outputs": [],
   "source": [
    "### Preprocess the data here. Preprocessing steps could include normalization, converting to grayscale, etc.\n",
    "### Feel free to use as many code cells as needed.\n",
    "\n",
    "X_train = (X_train_original - 128.0) / 128.0\n",
    "X_valid = (X_valid_original - 128.0) / 128.0\n",
    "X_test  = (X_test_original - 128.0) / 128.0\n",
    "\n",
    "y_train_onehot = np.zeros(shape=(len(y_train_original), n_classes))\n",
    "y_train_onehot[np.arange(len(y_train_original)), y_train_original] = 1\n",
    "y_train = y_train_onehot\n",
    "\n",
    "y_valid_onehot = np.zeros(shape=(len(y_valid_original), n_classes))\n",
    "y_valid_onehot[np.arange(len(y_valid_original)), y_valid_original] = 1\n",
    "y_valid = y_valid_onehot\n",
    "\n",
    "y_test_onehot = np.zeros(shape=(len(y_test_original), n_classes))\n",
    "y_test_onehot[np.arange(len(y_test_original)), y_test_original] = 1\n",
    "y_test = y_test_onehot\n",
    "\n",
    "\n",
    "AUGS_PER_IMAGE = 7\n",
    "\n",
    "# Generate luma-augmented training data\n",
    "X_train_colored = []\n",
    "y_train_colored = []\n",
    "\n",
    "for idx in range(X_train.shape[0]):\n",
    "    image = X_train[idx]\n",
    "    signtype = y_train[idx]\n",
    "    for i in range(AUGS_PER_IMAGE):\n",
    "        augmented_image = color_jitter(image)[0]\n",
    "        X_train_colored.append(augmented_image)\n",
    "        y_train_colored.append(signtype)\n",
    "\n",
    "X_train_colored = np.array(X_train_colored)\n",
    "y_train_colored = np.array(y_train_colored)\n"
   ]
  },
  {
   "cell_type": "code",
   "execution_count": 13,
   "metadata": {
    "collapsed": false,
    "deletable": true,
    "editable": true
   },
   "outputs": [
    {
     "name": "stdout",
     "output_type": "stream",
     "text": [
      "Augmented training set shape:  (243593, 32, 32, 3)\n",
      "Augmented training set shape:  <class 'numpy.ndarray'>\n",
      "Augmented training set slice:  [[[[-0.46652913 -0.48060039 -0.48529081]\n",
      "   [-0.47121508 -0.48528635 -0.48997677]\n",
      "   [-0.47121457 -0.48528584 -0.49466668]\n",
      "   ..., \n",
      "   [-0.44778065 -0.46654233 -0.48530402]\n",
      "   [-0.45246762 -0.47122931 -0.48061015]\n",
      "   [-0.45246813 -0.47122982 -0.47592024]]\n",
      "\n",
      "  [[-0.46184317 -0.47591444 -0.48060486]\n",
      "   [-0.4712177  -0.48059855 -0.48997939]\n",
      "   [-0.4712177  -0.48059855 -0.48997939]\n",
      "   ..., \n",
      "   [-0.44778065 -0.46654233 -0.48530402]\n",
      "   [-0.45246711 -0.4712288  -0.48530006]\n",
      "   [-0.45715671 -0.47122797 -0.48060882]]\n",
      "\n",
      "  [[-0.46653277 -0.47591361 -0.47591361]\n",
      "   [-0.4712177  -0.48059855 -0.48997939]\n",
      "   [-0.47590679 -0.48059721 -0.48997806]\n",
      "   ..., \n",
      "   [-0.44778065 -0.46654233 -0.48530402]\n",
      "   [-0.45246711 -0.4712288  -0.48530006]\n",
      "   [-0.45715671 -0.47122797 -0.48060882]]\n",
      "\n",
      "  ..., \n",
      "  [[-0.47121508 -0.48528635 -0.48997677]\n",
      "   [-0.46652913 -0.48060039 -0.48529081]\n",
      "   [-0.45715095 -0.48060306 -0.48529348]\n",
      "   ..., \n",
      "   [-0.47121508 -0.48528635 -0.48997677]\n",
      "   [-0.46652549 -0.48528717 -0.49466802]\n",
      "   [-0.46183902 -0.48060071 -0.49467197]]\n",
      "\n",
      "  [[-0.46652338 -0.48997548 -0.48997548]\n",
      "   [-0.46183742 -0.48528953 -0.48528953]\n",
      "   [-0.45246187 -0.4806044  -0.48529482]\n",
      "   ..., \n",
      "   [-0.47121508 -0.48528635 -0.48997677]\n",
      "   [-0.46652549 -0.48528717 -0.49466802]\n",
      "   [-0.46652498 -0.48528667 -0.49935793]]\n",
      "\n",
      "  [[-0.46183429 -0.48997682 -0.48997682]\n",
      "   [-0.45714833 -0.48529086 -0.48529086]\n",
      "   [-0.44776965 -0.48529302 -0.48998345]\n",
      "   ..., \n",
      "   [-0.47121457 -0.48528584 -0.49466668]\n",
      "   [-0.47121144 -0.48997313 -0.49935397]\n",
      "   [-0.4758974  -0.49465909 -0.50403993]]]]\n"
     ]
    }
   ],
   "source": [
    "print(\"Augmented training set shape: \", X_train_colored.shape)\n",
    "print(\"Augmented training set shape: \", type(X_train_colored))\n",
    "print(\"Augmented training set slice: \", X_train_colored[0:1])"
   ]
  },
  {
   "cell_type": "code",
   "execution_count": 14,
   "metadata": {
    "collapsed": false,
    "deletable": true,
    "editable": true
   },
   "outputs": [
    {
     "data": {
      "text/plain": [
       "<matplotlib.image.AxesImage at 0x7fa33b447550>"
      ]
     },
     "execution_count": 14,
     "metadata": {},
     "output_type": "execute_result"
    },
    {
     "data": {
      "image/png": "[encoded data removed]",
      "text/plain": [
       "<matplotlib.figure.Figure at 0x7fa33cb9ee48>"
      ]
     },
     "metadata": {},
     "output_type": "display_data"
    },
    {
     "data": {
      "image/png": "[encoded data removed]",
      "text/plain": [
       "<matplotlib.figure.Figure at 0x7fa33cb9e518>"
      ]
     },
     "metadata": {},
     "output_type": "display_data"
    },
    {
     "data": {
      "image/png": "[encoded data removed]",
      "text/plain": [
       "<matplotlib.figure.Figure at 0x7fa33cb827f0>"
      ]
     },
     "metadata": {},
     "output_type": "display_data"
    },
    {
     "data": {
      "image/png": "[encoded data removed]",
      "text/plain": [
       "<matplotlib.figure.Figure at 0x7fa33a0cd898>"
      ]
     },
     "metadata": {},
     "output_type": "display_data"
    },
    {
     "data": {
      "image/png": "[encoded data removed]",
      "text/plain": [
       "<matplotlib.figure.Figure at 0x7fa33b5ab710>"
      ]
     },
     "metadata": {},
     "output_type": "display_data"
    },
    {
     "data": {
      "image/png": "[encoded data removed]",
      "text/plain": [
       "<matplotlib.figure.Figure at 0x7fa33b5786a0>"
      ]
     },
     "metadata": {},
     "output_type": "display_data"
    },
    {
     "data": {
      "image/png": "[encoded data removed]",
      "text/plain": [
       "<matplotlib.figure.Figure at 0x7fa33b58fa20>"
      ]
     },
     "metadata": {},
     "output_type": "display_data"
    },
    {
     "data": {
      "image/png": "[encoded data removed]",
      "text/plain": [
       "<matplotlib.figure.Figure at 0x7fa33b526f60>"
      ]
     },
     "metadata": {},
     "output_type": "display_data"
    }
   ],
   "source": [
    "# Print a random image from the training set\n",
    "\n",
    "index = random.randrange(len(X_train))\n",
    "plt.imshow(X_train[index])\n",
    "plt.figure()\n",
    "plt.imshow(X_train_colored[index * AUGS_PER_IMAGE])\n",
    "plt.figure()\n",
    "plt.imshow(X_train_colored[index * AUGS_PER_IMAGE + 1])\n",
    "\n",
    "plt.figure()\n",
    "plt.imshow(X_train_colored[index * AUGS_PER_IMAGE + 2])\n",
    "\n",
    "plt.figure()\n",
    "plt.imshow(X_train_colored[index * AUGS_PER_IMAGE + 3])\n",
    "\n",
    "plt.figure()\n",
    "plt.imshow(X_train_colored[index * AUGS_PER_IMAGE + 4])\n",
    "\n",
    "plt.figure()\n",
    "plt.imshow(X_train_colored[index * AUGS_PER_IMAGE + 5])\n",
    "\n",
    "plt.figure()\n",
    "plt.imshow(X_train_colored[index * AUGS_PER_IMAGE + 6])\n"
   ]
  },
  {
   "cell_type": "markdown",
   "metadata": {
    "deletable": true,
    "editable": true
   },
   "source": [
    "### Model Architecture"
   ]
  },
  {
   "cell_type": "code",
   "execution_count": 15,
   "metadata": {
    "collapsed": false,
    "deletable": true,
    "editable": true
   },
   "outputs": [],
   "source": [
    "import numpy as np\n",
    "import tensorflow as tf\n",
    "\n",
    "### Define your architecture here.\n",
    "### Feel free to use as many code cells as needed.\n",
    "\n",
    "mu = 0\n",
    "sigma = 0.1\n",
    "hasCuDNN = True\n",
    "# n_classes = 43\n",
    "\n",
    "keep_prob = tf.placeholder(tf.float32)\n",
    "\n",
    "# Placeholders\n",
    "x = tf.placeholder(tf.float32, (None, 32, 32, 3), name=\"x\")\n",
    "y = tf.placeholder(tf.int32, (None), name=\"y\")\n",
    "\n",
    "#\n",
    "# Layer 1: 5x5x3 convolution\n",
    "#\n",
    "\n",
    "# 32 x 32 x 3 -> 28 x 28 x 6\n",
    "l1_filter = tf.Variable(tf.truncated_normal([5, 5, 3, 6], mean=mu, stddev=sigma), name=\"l1_filter\")\n",
    "l1_bias = tf.Variable(tf.zeros(6), name=\"l1_bias\")\n",
    "\n",
    "l1_conv   = tf.nn.conv2d(x, l1_filter, [1, 1, 1, 1], 'VALID', use_cudnn_on_gpu=hasCuDNN, name=\"l1_conv\")\n",
    "l1_biased = tf.nn.bias_add(l1_conv, l1_bias, name=\"l1_biased\")\n",
    "\n",
    "# Activation\n",
    "l1_activation = tf.nn.relu(l1_biased, name=\"l1_activation\")\n",
    "\n",
    "# Pooling\n",
    "\n",
    "# 28 x 28 x 6 -> 14 x 14 x 6\n",
    "l1_pool = tf.nn.max_pool(l1_activation, [1, 2, 2, 1], [1, 2, 2, 1], 'VALID', name=\"l1_pool\")\n",
    "\n",
    "\n",
    "# \n",
    "# Layer 2: 5x5x6 convolution\n",
    "# \n",
    "\n",
    "\n",
    "l2_filter = tf.Variable(tf.truncated_normal([5, 5, 6, 16], mean=mu, stddev=sigma), name=\"l2_filter\")\n",
    "l2_bias = tf.Variable(tf.zeros(16), name=\"l2_bias\")\n",
    "# 14 x 14 x 6 -> 10 x 10 x 16\n",
    "l2_conv   = tf.nn.conv2d(l1_pool, l2_filter, [1, 1, 1, 1], 'VALID', use_cudnn_on_gpu=hasCuDNN, name=\"l2_conv\")\n",
    "l2_biased = tf.nn.bias_add(l2_conv, l2_bias, name=\"l2_biased\")\n",
    "\n",
    "# Activation\n",
    "l2_activation = tf.nn.relu(l2_biased, name=\"l2_activation\")\n",
    "\n",
    "# Pooling\n",
    "# 10 x 10 x 16 -> 5 x 5 x 16\n",
    "l2_pool = tf.nn.max_pool(l2_activation, [1, 2, 2, 1], [1, 2, 2, 1], 'VALID', name=\"l2_pool\")\n",
    "\n",
    "\n",
    "#\n",
    "# Layer 3: 1x1x16 convolution\n",
    "# \n",
    "\n",
    "l2_1_filter = tf.Variable(tf.truncated_normal([1, 1, 16, 24], mean=mu, stddev=sigma), name=\"l2_1_filter\")\n",
    "l2_1_bias   = tf.Variable(tf.zeros(24), \"l2_1_bias\")\n",
    "# 1x1 x 16 -> 5 x 5 x 24\n",
    "l2_1_conv   = tf.nn.conv2d(l2_pool, l2_1_filter, [1,1,1,1], 'VALID', use_cudnn_on_gpu=hasCuDNN, name=\"l2_1_conv\")\n",
    "l2_1_biased = tf.nn.bias_add(l2_1_conv, l2_1_bias, name=\"l2_1_biased\")\n",
    "\n",
    "# Pooling\n",
    "# 5 x 5 x 24 -> 2 x 2 x 24\n",
    "# l2_1_pool   = tf.nn.max_pool(l2_1_biased, [1,2,2,1], [1,2,2,1], 'VALID')\n",
    "\n",
    "# Dropout\n",
    "l2_1_dropout = tf.nn.dropout(l2_1_biased, keep_prob, name=\"l2_1_dropout\")\n",
    "\n",
    "# Flatten\n",
    "l3_weights = tf.Variable(tf.truncated_normal([600, 120], mean=mu, stddev=sigma), name=\"l3_weights\")\n",
    "# 5 x 5 x 24 -> 600 x 1\n",
    "l2_flatten = tf.reshape(l2_1_dropout, [-1, l3_weights.get_shape().as_list()[0]], name=\"l2_flatten\")\n",
    "\n",
    "\n",
    "# \n",
    "# Layer 4: Simple fully connected layer\n",
    "# \n",
    "l3_biases  = tf.Variable(tf.zeros(120), name=\"l3_biases\")\n",
    "# 600 x 1 -> 120 x 1\n",
    "l3_value   = tf.add(tf.matmul(l2_flatten, l3_weights), l3_biases, name=\"l3_value\")\n",
    "\n",
    "# Activation\n",
    "l3_activation = tf.nn.relu(l3_value, name=\"l3_activation\")\n",
    "\n",
    "l3_dropout    = tf.nn.dropout(l3_activation, keep_prob, name=\"l3_dropout\")\n",
    "\n",
    "# \n",
    "# Layer 5: Another layer\n",
    "# \n",
    "l4_weights = tf.Variable(tf.truncated_normal([120, 84], mean=mu, stddev=sigma), name=\"l4_weights\")\n",
    "l4_biases  = tf.Variable(tf.zeros(84), name=\"l4_biases\")\n",
    "\n",
    "# 120 x 1 -> 84 x 1\n",
    "l4_value   = tf.add(tf.matmul(l3_dropout, l4_weights), l4_biases, name=\"l4_value\")\n",
    "l4_activation = tf.nn.relu(l4_value, name=\"l4_activation\")\n",
    "\n",
    "l5_weights = tf.Variable(tf.truncated_normal([84, n_classes], mean=mu, stddev=sigma), name=\"l5_weights\")\n",
    "l5_biases  = tf.Variable(tf.zeros(n_classes), name=\"l5_biases\")\n",
    "\n",
    "# 84 x 1 -> n_classes (43) x 1\n",
    "logits     = tf.add(tf.matmul(l4_activation, l5_weights), l5_biases, name=\"logits\")\n"
   ]
  },
  {
   "cell_type": "markdown",
   "metadata": {
    "deletable": true,
    "editable": true
   },
   "source": [
    "### Train, Validate and Test the Model"
   ]
  },
  {
   "cell_type": "markdown",
   "metadata": {
    "deletable": true,
    "editable": true
   },
   "source": [
    "A validation set can be used to assess how well the model is performing. A low accuracy on the training and validation\n",
    "sets imply underfitting. A high accuracy on the training set but low accuracy on the validation set implies overfitting."
   ]
  },
  {
   "cell_type": "code",
   "execution_count": 22,
   "metadata": {
    "collapsed": false,
    "deletable": true,
    "editable": true
   },
   "outputs": [],
   "source": [
    "### Train your model here.\n",
    "### Calculate and report the accuracy on the training and validation set.\n",
    "### Once a final model architecture is selected, \n",
    "### the accuracy on the test set should be calculated and reported as well.\n",
    "### Feel free to use as many code cells as needed.\n",
    "from tensorflow.contrib.layers import flatten\n",
    "from sklearn.utils import shuffle\n",
    "import time\n",
    "import os\n",
    "\n",
    "learning_rate = 0.001\n",
    "epochs = 40\n",
    "batch_size = 512\n",
    "\n",
    "cross_entropy = tf.nn.softmax_cross_entropy_with_logits(logits, y, name=\"cross_entropy\")\n",
    "loss_operation = tf.reduce_mean(cross_entropy, name=\"loss_operation\")\n",
    "optimizer = tf.train.AdamOptimizer(learning_rate=learning_rate, name=\"optimizer\")\n",
    "training_operation = optimizer.minimize(loss_operation, name=\"training_operation\") \n",
    "\n",
    "correct_prediction = tf.equal(tf.argmax(logits, 1), tf.argmax(y, 1))\n",
    "accuracy_operation = tf.reduce_mean(tf.cast(correct_prediction, tf.float32), name=\"accuracy_operation\")\n",
    "\n",
    "classifier = tf.nn.softmax(logits, name=\"classifier\")\n",
    "\n",
    "def evaluate(X_data, y_data):\n",
    "    num_examples = len(X_data)\n",
    "    total_accuracy = 0\n",
    "    sess = tf.get_default_session()\n",
    "    for offset in range(0, num_examples, batch_size):\n",
    "        batch_x, batch_y = X_data[offset:offset+batch_size], y_data[offset:offset+batch_size]\n",
    "        accuracy = sess.run(accuracy_operation, feed_dict={x: batch_x, y: batch_y, keep_prob: 1})\n",
    "        total_accuracy += (accuracy * len(batch_x))\n",
    "    return total_accuracy / num_examples"
   ]
  },
  {
   "cell_type": "code",
   "execution_count": 23,
   "metadata": {
    "collapsed": false,
    "deletable": true,
    "editable": true,
    "scrolled": true
   },
   "outputs": [
    {
     "name": "stdout",
     "output_type": "stream",
     "text": [
      "EPOCH\tACC\tLOSS\tTIME\n",
      "1\t0.449\t3.769\t10.839\n",
      "2\t0.751\t2.098\t10.098\n",
      "3\t0.834\t1.014\t9.939\n",
      "4\t0.870\t0.725\t9.920\n",
      "5\t0.897\t0.574\t9.939\n",
      "6\t0.912\t0.484\t9.957\n",
      "7\t0.921\t0.411\t9.965\n",
      "8\t0.928\t0.364\t9.982\n",
      "9\t0.934\t0.334\t9.974\n",
      "10\t0.935\t0.303\t10.032\n",
      "11\t0.942\t0.279\t9.966\n",
      "12\t0.941\t0.248\t9.987\n",
      "13\t0.943\t0.241\t9.982\n",
      "14\t0.946\t0.226\t10.082\n",
      "15\t0.945\t0.211\t9.975\n",
      "16\t0.945\t0.219\t9.943\n",
      "17\t0.947\t0.190\t9.910\n",
      "18\t0.948\t0.192\t10.032\n",
      "19\t0.950\t0.184\t9.933\n",
      "20\t0.949\t0.171\t9.963\n",
      "21\t0.952\t0.166\t9.931\n",
      "22\t0.954\t0.155\t10.047\n",
      "23\t0.954\t0.160\t9.980\n",
      "24\t0.955\t0.150\t9.986\n",
      "25\t0.954\t0.150\t9.964\n",
      "26\t0.958\t0.137\t9.965\n",
      "27\t0.959\t0.140\t10.039\n",
      "28\t0.956\t0.135\t9.996\n",
      "29\t0.958\t0.139\t9.953\n",
      "30\t0.958\t0.123\t9.990\n",
      "31\t0.957\t0.133\t10.030\n",
      "32\t0.961\t0.120\t9.992\n",
      "33\t0.959\t0.126\t9.958\n",
      "34\t0.960\t0.117\t9.977\n",
      "35\t0.958\t0.110\t10.083\n",
      "36\t0.959\t0.117\t9.972\n",
      "37\t0.959\t0.115\t9.970\n",
      "38\t0.962\t0.109\t9.960\n",
      "39\t0.962\t0.111\t10.059\n",
      "40\t0.961\t0.106\t10.009\n",
      "Model saved in /output/:  TRAFFIC_SIGN_CLASSIFIER.data-00000-of-00001,command.sh,checkpoint,TRAFFIC_SIGN_CLASSIFIER.meta,train.p,AlertSign.png,StopSignV2.png,StopSign.png,writeup_template.md,.ipynb_checkpoints,valid.p,test.p,TRAFFIC_SIGN_CLASSIFIER.index,visualize_cnn.png,README.md,Traffic_Sign_Classifier.ipynb,FrostHazard.png,NoParkingLeft.png,examples,signnames.csv\n"
     ]
    }
   ],
   "source": [
    "saved_checkpoint_name = None\n",
    "with tf.Session() as sess:\n",
    "    sess.run(tf.global_variables_initializer())\n",
    "    num_examples = len(X_train)\n",
    "    saver = tf.train.Saver()\n",
    "    print(\"EPOCH\\tACC\\tLOSS\\tTIME\")\n",
    "    for i in range(epochs):\n",
    "        X_train, y_train = shuffle(X_train, y_train)\n",
    "        X_train_colored, y_train_colored = shuffle(X_train_colored, y_train_colored)\n",
    "        losses = []\n",
    "        \n",
    "        start_time = time.process_time()\n",
    "        \n",
    "        for offset in range(0, num_examples, batch_size):\n",
    "            end = offset + batch_size\n",
    "            batch_x = np.concatenate([X_train[offset:end], X_train_colored[offset*7:end*7]])\n",
    "            batch_y = np.concatenate([y_train[offset:end], y_train_colored[offset*7:end*7]])\n",
    "            \n",
    "            _, loss = sess.run([training_operation, loss_operation], feed_dict={x: batch_x, y: batch_y, keep_prob: 0.5})\n",
    "            losses.append(loss)\n",
    "            \n",
    "        end_time = time.process_time()\n",
    "        \n",
    "        \n",
    "        validation_accuracy = evaluate(X_valid, y_valid)\n",
    "        print(\"{}\\t{:.3f}\\t{:.3f}\\t{:.3f}\".format(i+1, validation_accuracy, max(losses), end_time - start_time))\n",
    "    \n",
    "    tf.add_to_collection(\"classifier\", classifier)\n",
    "    saved_checkpoint_name = saver.save(sess, '/output/TRAFFIC_SIGN_CLASSIFIER')\n",
    "    print(\"Model saved in /output/: \", \",\".join(os.listdir(\"/output/\")))"
   ]
  },
  {
   "cell_type": "code",
   "execution_count": 24,
   "metadata": {
    "collapsed": false,
    "deletable": true,
    "editable": true,
    "scrolled": true
   },
   "outputs": [
    {
     "name": "stdout",
     "output_type": "stream",
     "text": [
      "Correct is  (array([3]),)\n",
      "Classification results \n",
      "3 1.0\n",
      "5 1.53736e-10\n",
      "2 1.44142e-10\n",
      "6 3.93156e-17\n",
      "13 1.29872e-18\n"
     ]
    },
    {
     "data": {
      "image/png": "[encoded data removed]",
      "text/plain": [
       "<matplotlib.figure.Figure at 0x7fa33457ceb8>"
      ]
     },
     "metadata": {},
     "output_type": "display_data"
    }
   ],
   "source": [
    "# Running a model \n",
    "import os\n",
    "\n",
    "def classify(image):\n",
    "    with tf.Session() as sess:\n",
    "        saver2 = tf.train.import_meta_graph('/output/TRAFFIC_SIGN_CLASSIFIER.meta')\n",
    "        saver2.restore(sess, '/output/TRAFFIC_SIGN_CLASSIFIER')\n",
    "\n",
    "        classifier = tf.get_collection(\"classifier\")[0]\n",
    "\n",
    "        result = sess.run(classifier, { x: [image], keep_prob: 1 })\n",
    "        values, indices = tf.nn.top_k(result, 5)\n",
    "        probs = sess.run(values)\n",
    "        predictions = sess.run(indices)\n",
    "        return probs, predictions\n",
    "\n",
    "r = random.randrange(len(X_valid))\n",
    "plt.imshow((X_valid[r] + 1)/2.)\n",
    "print(\"Correct is \", np.where(y_valid[r] > 0))\n",
    "print(\"Classification results \")\n",
    "\n",
    "probs, predictions = classify(X_valid[r])\n",
    "\n",
    "for i in range(predictions.shape[1]):\n",
    "    print(predictions[0, i], probs[0, i])"
   ]
  },
  {
   "cell_type": "markdown",
   "metadata": {
    "deletable": true,
    "editable": true
   },
   "source": [
    "---\n",
    "\n",
    "## Step 3: Test a Model on New Images\n",
    "\n",
    "To give yourself more insight into how your model is working, download at least five pictures of German traffic signs from the web and use your model to predict the traffic sign type.\n",
    "\n",
    "You may find `signnames.csv` useful as it contains mappings from the class id (integer) to the actual sign name."
   ]
  },
  {
   "cell_type": "markdown",
   "metadata": {
    "deletable": true,
    "editable": true
   },
   "source": [
    "### Load and Output the Images"
   ]
  },
  {
   "cell_type": "code",
   "execution_count": 26,
   "metadata": {
    "collapsed": false,
    "deletable": true,
    "editable": true,
    "scrolled": true
   },
   "outputs": [
    {
     "data": {
      "image/png": "[encoded data removed]",
      "text/plain": [
       "<matplotlib.figure.Figure at 0x7fa332fb6128>"
      ]
     },
     "metadata": {},
     "output_type": "display_data"
    },
    {
     "data": {
      "image/png": "[encoded data removed]",
      "text/plain": [
       "<matplotlib.figure.Figure at 0x7fa3326b5048>"
      ]
     },
     "metadata": {},
     "output_type": "display_data"
    },
    {
     "data": {
      "image/png": "[encoded data removed]",
      "text/plain": [
       "<matplotlib.figure.Figure at 0x7fa33205e438>"
      ]
     },
     "metadata": {},
     "output_type": "display_data"
    },
    {
     "data": {
      "image/png": "[encoded data removed]",
      "text/plain": [
       "<matplotlib.figure.Figure at 0x7fa33201f128>"
      ]
     },
     "metadata": {},
     "output_type": "display_data"
    },
    {
     "data": {
      "image/png": "[encoded data removed]",
      "text/plain": [
       "<matplotlib.figure.Figure at 0x7fa331f78128>"
      ]
     },
     "metadata": {},
     "output_type": "display_data"
    },
    {
     "data": {
      "text/plain": [
       "<matplotlib.figure.Figure at 0x7fa331f3ff98>"
      ]
     },
     "metadata": {},
     "output_type": "display_data"
    }
   ],
   "source": [
    "### Load the images and plot them here.\n",
    "### Feel free to use as many code cells as needed.\n",
    "import scipy\n",
    "\n",
    "def load_image(filename):\n",
    "    return (scipy.misc.imread(filename, mode=\"RGB\").astype(np.float32) - 128.) / 128.\n",
    "\n",
    "images = []\n",
    "for filename in [\"StopSign\", \"StopSignV2\", \"AlertSign\", \"FrostHazard\", \"NoParkingLeft\"]:\n",
    "    images.append((filename, load_image(filename + \".png\")))\n",
    "\n",
    "for name, img in images:\n",
    "    plt.imshow((img+1.)/2.)\n",
    "    plt.figure()"
   ]
  },
  {
   "cell_type": "markdown",
   "metadata": {
    "deletable": true,
    "editable": true
   },
   "source": [
    "### Predict the Sign Type for Each Image"
   ]
  },
  {
   "cell_type": "code",
   "execution_count": 27,
   "metadata": {
    "collapsed": false,
    "deletable": true,
    "editable": true
   },
   "outputs": [
    {
     "name": "stdout",
     "output_type": "stream",
     "text": [
      "Classifying image: StopSign\n",
      "14 1.0\n",
      "0 3.38905e-14\n",
      "5 2.89292e-14\n",
      "1 8.98521e-15\n",
      "3 2.14512e-15\n",
      "Classifying image: StopSignV2\n",
      "14 1.0\n",
      "17 1.74995e-10\n",
      "0 3.53436e-11\n",
      "13 2.28924e-11\n",
      "1 3.24424e-12\n",
      "Classifying image: AlertSign\n",
      "18 0.999998\n",
      "26 1.72573e-06\n",
      "22 4.88231e-08\n",
      "31 6.72926e-15\n",
      "3 8.41838e-17\n",
      "Classifying image: FrostHazard\n",
      "11 0.999999\n",
      "5 1.41901e-06\n",
      "21 6.74905e-12\n",
      "24 3.69507e-12\n",
      "18 3.22303e-12\n",
      "Classifying image: NoParkingLeft\n",
      "6 0.435312\n",
      "5 0.352227\n",
      "1 0.136371\n",
      "42 0.0326625\n",
      "2 0.0210805\n"
     ]
    }
   ],
   "source": [
    "### Run the predictions here and use the model to output the prediction for each image.\n",
    "### Make sure to pre-process the images with the same pre-processing pipeline used earlier.\n",
    "### Feel free to use as many code cells as needed.\n",
    "\n",
    "for filename, img in images:\n",
    "    print(\"Classifying image:\", filename)\n",
    "    probs, predictions = classify(img)\n",
    "    \n",
    "    for i in range(predictions.shape[1]):\n",
    "        print(predictions[0, i], probs[0, i])\n",
    "    "
   ]
  },
  {
   "cell_type": "markdown",
   "metadata": {
    "deletable": true,
    "editable": true
   },
   "source": [
    "### Analyze Performance"
   ]
  },
  {
   "cell_type": "code",
   "execution_count": 28,
   "metadata": {
    "collapsed": false,
    "deletable": true,
    "editable": true
   },
   "outputs": [
    {
     "name": "stdout",
     "output_type": "stream",
     "text": [
      "Correctly classified %:\n"
     ]
    },
    {
     "data": {
      "text/plain": [
       "60.0"
      ]
     },
     "execution_count": 28,
     "metadata": {},
     "output_type": "execute_result"
    }
   ],
   "source": [
    "### Calculate the accuracy for these 5 new images. \n",
    "### For example, if the model predicted 1 out of 5 signs correctly, it's 20% accurate on these new images.\n",
    "\n",
    "correctly_classified = 3 # note: both stop signs were classified accurately.\n",
    "n_images = len(images)\n",
    "\n",
    "print(\"Correctly classified %:\")\n",
    "correctly_classified / n_images * 100"
   ]
  },
  {
   "cell_type": "markdown",
   "metadata": {
    "deletable": true,
    "editable": true
   },
   "source": [
    "### Output Top 5 Softmax Probabilities For Each Image Found on the Web"
   ]
  },
  {
   "cell_type": "markdown",
   "metadata": {
    "deletable": true,
    "editable": true
   },
   "source": [
    "For each of the new images, print out the model's softmax probabilities to show the **certainty** of the model's predictions (limit the output to the top 5 probabilities for each image). [`tf.nn.top_k`](https://www.tensorflow.org/versions/r0.12/api_docs/python/nn.html#top_k) could prove helpful here. \n",
    "\n",
    "The example below demonstrates how tf.nn.top_k can be used to find the top k predictions for each image.\n",
    "\n",
    "`tf.nn.top_k` will return the values and indices (class ids) of the top k predictions. So if k=3, for each sign, it'll return the 3 largest probabilities (out of a possible 43) and the correspoding class ids.\n",
    "\n",
    "Take this numpy array as an example. The values in the array represent predictions. The array contains softmax probabilities for five candidate images with six possible classes. `tk.nn.top_k` is used to choose the three classes with the highest probability:\n",
    "\n",
    "```\n",
    "# (5, 6) array\n",
    "a = np.array([[ 0.24879643,  0.07032244,  0.12641572,  0.34763842,  0.07893497,\n",
    "         0.12789202],\n",
    "       [ 0.28086119,  0.27569815,  0.08594638,  0.0178669 ,  0.18063401,\n",
    "         0.15899337],\n",
    "       [ 0.26076848,  0.23664738,  0.08020603,  0.07001922,  0.1134371 ,\n",
    "         0.23892179],\n",
    "       [ 0.11943333,  0.29198961,  0.02605103,  0.26234032,  0.1351348 ,\n",
    "         0.16505091],\n",
    "       [ 0.09561176,  0.34396535,  0.0643941 ,  0.16240774,  0.24206137,\n",
    "         0.09155967]])\n",
    "```\n",
    "\n",
    "Running it through `sess.run(tf.nn.top_k(tf.constant(a), k=3))` produces:\n",
    "\n",
    "```\n",
    "TopKV2(values=array([[ 0.34763842,  0.24879643,  0.12789202],\n",
    "       [ 0.28086119,  0.27569815,  0.18063401],\n",
    "       [ 0.26076848,  0.23892179,  0.23664738],\n",
    "       [ 0.29198961,  0.26234032,  0.16505091],\n",
    "       [ 0.34396535,  0.24206137,  0.16240774]]), indices=array([[3, 0, 5],\n",
    "       [0, 1, 4],\n",
    "       [0, 5, 1],\n",
    "       [1, 3, 5],\n",
    "       [1, 4, 3]], dtype=int32))\n",
    "```\n",
    "\n",
    "Looking just at the first row we get `[ 0.34763842,  0.24879643,  0.12789202]`, you can confirm these are the 3 largest probabilities in `a`. You'll also notice `[3, 0, 5]` are the corresponding indices."
   ]
  },
  {
   "cell_type": "code",
   "execution_count": null,
   "metadata": {
    "collapsed": true,
    "deletable": true,
    "editable": true
   },
   "outputs": [],
   "source": [
    "### Print out the top five softmax probabilities for the predictions on the German traffic sign images found on the web. \n",
    "### Feel free to use as many code cells as needed.\n",
    "\n",
    "#\n",
    "# Implemented in \"Predict the sign type\"\n",
    "# "
   ]
  },
  {
   "cell_type": "markdown",
   "metadata": {
    "deletable": true,
    "editable": true
   },
   "source": [
    "---\n",
    "\n",
    "## Step 4: Visualize the Neural Network's State with Test Images\n",
    "\n",
    " This Section is not required to complete but acts as an additional excersise for understaning the output of a neural network's weights. While neural networks can be a great learning device they are often referred to as a black box. We can understand what the weights of a neural network look like better by plotting their feature maps. After successfully training your neural network you can see what it's feature maps look like by plotting the output of the network's weight layers in response to a test stimuli image. From these plotted feature maps, it's possible to see what characteristics of an image the network finds interesting. For a sign, maybe the inner network feature maps react with high activation to the sign's boundary outline or to the contrast in the sign's painted symbol.\n",
    "\n",
    " Provided for you below is the function code that allows you to get the visualization output of any tensorflow weight layer you want. The inputs to the function should be a stimuli image, one used during training or a new one you provided, and then the tensorflow variable name that represents the layer's state during the training process, for instance if you wanted to see what the [LeNet lab's](https://classroom.udacity.com/nanodegrees/nd013/parts/fbf77062-5703-404e-b60c-95b78b2f3f9e/modules/6df7ae49-c61c-4bb2-a23e-6527e69209ec/lessons/601ae704-1035-4287-8b11-e2c2716217ad/concepts/d4aca031-508f-4e0b-b493-e7b706120f81) feature maps looked like for it's second convolutional layer you could enter conv2 as the tf_activation variable.\n",
    "\n",
    "For an example of what feature map outputs look like, check out NVIDIA's results in their paper [End-to-End Deep Learning for Self-Driving Cars](https://devblogs.nvidia.com/parallelforall/deep-learning-self-driving-cars/) in the section Visualization of internal CNN State. NVIDIA was able to show that their network's inner weights had high activations to road boundary lines by comparing feature maps from an image with a clear path to one without. Try experimenting with a similar test to show that your trained network's weights are looking for interesting features, whether it's looking at differences in feature maps from images with or without a sign, or even what feature maps look like in a trained network vs a completely untrained one on the same sign image.\n",
    "\n",
    "<figure>\n",
    " <img src=\"visualize_cnn.png\" width=\"380\" alt=\"Combined Image\" />\n",
    " <figcaption>\n",
    " <p></p> \n",
    " <p style=\"text-align: center;\"> Your output should look something like this (above)</p> \n",
    " </figcaption>\n",
    "</figure>\n",
    " <p></p> \n"
   ]
  },
  {
   "cell_type": "code",
   "execution_count": 34,
   "metadata": {
    "collapsed": false,
    "deletable": true,
    "editable": true
   },
   "outputs": [
    {
     "data": {
      "image/png": "[encoded data removed]",
      "text/plain": [
       "<matplotlib.figure.Figure at 0x7fa2d4328fd0>"
      ]
     },
     "metadata": {},
     "output_type": "display_data"
    }
   ],
   "source": [
    "### Visualize your network's feature maps here.\n",
    "### Feel free to use as many code cells as needed.\n",
    "\n",
    "# image_input: the test image being fed into the network to produce the feature maps\n",
    "# tf_activation: should be a tf variable name used during your training procedure that represents the calculated state of a specific weight layer\n",
    "# activation_min/max: can be used to view the activation contrast in more detail, by default matplot sets min and max to the actual min and max values of the output\n",
    "# plt_num: used to plot out multiple different weight feature map sets on the same block, just extend the plt number for each new feature map entry\n",
    "\n",
    "def outputFeatureMap(sess, image_input, x, tf_activation, activation_min=-1, activation_max=-1 ,plt_num=1):\n",
    "    # Here make sure to preprocess your image_input in a way your network expects\n",
    "    # with size, normalization, ect if needed\n",
    "    # image_input =\n",
    "    # Note: x should be the same name as your network's tensorflow data placeholder variable\n",
    "    # If you get an error tf_activation is not defined it maybe having trouble accessing the variable from inside a function\n",
    "    activation = tf_activation.eval(session=sess,feed_dict={x : [image_input]})\n",
    "    featuremaps = activation.shape[3]\n",
    "    plt.figure(plt_num, figsize=(15,15))\n",
    "    for featuremap in range(featuremaps):\n",
    "        plt.subplot(6,8, featuremap+1) # sets the number of feature maps to show on each row and column\n",
    "        plt.title('FeatureMap ' + str(featuremap)) # displays the feature map number\n",
    "        if activation_min != -1 & activation_max != -1:\n",
    "            plt.imshow(activation[0,:,:, featuremap], interpolation=\"nearest\", vmin =activation_min, vmax=activation_max, cmap=\"gray\")\n",
    "        elif activation_max != -1:\n",
    "            plt.imshow(activation[0,:,:, featuremap], interpolation=\"nearest\", vmax=activation_max, cmap=\"gray\")\n",
    "        elif activation_min !=-1:\n",
    "            plt.imshow(activation[0,:,:, featuremap], interpolation=\"nearest\", vmin=activation_min, cmap=\"gray\")\n",
    "        else:\n",
    "            plt.imshow(activation[0,:,:, featuremap], interpolation=\"nearest\", cmap=\"gray\")\n",
    "\n",
    "with tf.Session() as sess:\n",
    "    saver2 = tf.train.import_meta_graph('/output/TRAFFIC_SIGN_CLASSIFIER.meta')\n",
    "    saver2.restore(sess, '/output/TRAFFIC_SIGN_CLASSIFIER')\n",
    "    outputFeatureMap(sess, images[2][1], x, l1_activation)"
   ]
  },
  {
   "cell_type": "markdown",
   "metadata": {
    "deletable": true,
    "editable": true
   },
   "source": [
    "### Question 9\n",
    "\n",
    "Discuss how you used the visual output of your trained network's feature maps to show that it had learned to look for interesting characteristics in traffic sign images.\n",
    "\n"
   ]
  },
  {
   "cell_type": "markdown",
   "metadata": {
    "deletable": true,
    "editable": true
   },
   "source": [
    "**Answer:**\n",
    "\n",
    "The network has learned to recognize the general shape of signs (the stop sign is octagonal, the alert sign is triangular and upright). It has also figured out that a stop sign contains white text and an alert sign contains a vertical element that should look something like an exclamation mark. The function provided before is a brilliant way to demonstrate the feature maps."
   ]
  },
  {
   "cell_type": "markdown",
   "metadata": {
    "deletable": true,
    "editable": true
   },
   "source": [
    "> **Note**: Once you have completed all of the code implementations and successfully answered each question above, you may finalize your work by exporting the iPython Notebook as an HTML document. You can do this by using the menu above and navigating to  \\n\",\n",
    "    \"**File -> Download as -> HTML (.html)**. Include the finished document along with this notebook as your submission."
   ]
  },
  {
   "cell_type": "markdown",
   "metadata": {
    "deletable": true,
    "editable": true
   },
   "source": [
    "### Project Writeup\n",
    "\n",
    "Once you have completed the code implementation, document your results in a project writeup using this [template](https://github.com/udacity/CarND-Traffic-Sign-Classifier-Project/blob/master/writeup_template.md) as a guide. The writeup can be in a markdown or pdf file. "
   ]
  }
 ],
 "metadata": {
  "anaconda-cloud": {},
  "kernelspec": {
   "display_name": "Python 3",
   "language": "python",
   "name": "python3"
  },
  "language_info": {
   "codemirror_mode": {
    "name": "ipython",
    "version": 3
   },
   "file_extension": ".py",
   "mimetype": "text/x-python",
   "name": "python",
   "nbconvert_exporter": "python",
   "pygments_lexer": "ipython3",
   "version": "3.5.3"
  }
 },
 "nbformat": 4,
 "nbformat_minor": 1
}
