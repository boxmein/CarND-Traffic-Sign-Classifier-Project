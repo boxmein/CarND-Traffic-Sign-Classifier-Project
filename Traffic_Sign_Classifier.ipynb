{
 "cells": [
  {
   "cell_type": "markdown",
   "metadata": {
    "deletable": true,
    "editable": true
   },
   "source": [
    "# Self-Driving Car Engineer Nanodegree\n",
    "\n",
    "## Deep Learning\n",
    "\n",
    "## Project: Build a Traffic Sign Recognition Classifier\n",
    "\n",
    "In this notebook, a template is provided for you to implement your functionality in stages, which is required to successfully complete this project. If additional code is required that cannot be included in the notebook, be sure that the Python code is successfully imported and included in your submission if necessary. \n",
    "\n",
    "> **Note**: Once you have completed all of the code implementations, you need to finalize your work by exporting the iPython Notebook as an HTML document. Before exporting the notebook to html, all of the code cells need to have been run so that reviewers can see the final implementation and output. You can then export the notebook by using the menu above and navigating to  \\n\",\n",
    "    \"**File -> Download as -> HTML (.html)**. Include the finished document along with this notebook as your submission. \n",
    "\n",
    "In addition to implementing code, there is a writeup to complete. The writeup should be completed in a separate file, which can be either a markdown file or a pdf document. There is a [write up template](https://github.com/udacity/CarND-Traffic-Sign-Classifier-Project/blob/master/writeup_template.md) that can be used to guide the writing process. Completing the code template and writeup template will cover all of the [rubric points](https://review.udacity.com/#!/rubrics/481/view) for this project.\n",
    "\n",
    "The [rubric](https://review.udacity.com/#!/rubrics/481/view) contains \"Stand Out Suggestions\" for enhancing the project beyond the minimum requirements. The stand out suggestions are optional. If you decide to pursue the \"stand out suggestions\", you can include the code in this Ipython notebook and also discuss the results in the writeup file.\n",
    "\n",
    "\n",
    ">**Note:** Code and Markdown cells can be executed using the **Shift + Enter** keyboard shortcut. In addition, Markdown cells can be edited by typically double-clicking the cell to enter edit mode."
   ]
  },
  {
   "cell_type": "markdown",
   "metadata": {
    "deletable": true,
    "editable": true
   },
   "source": [
    "---\n",
    "## Step 0: Load The Data"
   ]
  },
  {
   "cell_type": "code",
   "execution_count": 1,
   "metadata": {
    "collapsed": false,
    "deletable": true,
    "editable": true
   },
   "outputs": [],
   "source": [
    "# Load pickled data\n",
    "import pickle\n",
    "import numpy as np\n",
    "\n",
    "# TODO: Fill this in based on where you saved the training and testing data\n",
    "\n",
    "training_file = \"train.p\"\n",
    "validation_file= \"valid.p\"\n",
    "testing_file = \"test.p\"\n",
    "\n",
    "with open(training_file, mode='rb') as f:\n",
    "    train = pickle.load(f)\n",
    "with open(validation_file, mode='rb') as f:\n",
    "    valid = pickle.load(f)\n",
    "with open(testing_file, mode='rb') as f:\n",
    "    test = pickle.load(f)\n",
    "    \n",
    "X_train_original, y_train_original = train['features'], train['labels']\n",
    "X_valid_original, y_valid_original = valid['features'], valid['labels']\n",
    "X_test_original, y_test_original = test['features'], test['labels']"
   ]
  },
  {
   "cell_type": "markdown",
   "metadata": {
    "deletable": true,
    "editable": true
   },
   "source": [
    "---\n",
    "\n",
    "## Step 1: Dataset Summary & Exploration\n",
    "\n",
    "The pickled data is a dictionary with 4 key/value pairs:\n",
    "\n",
    "- `'features'` is a 4D array containing raw pixel data of the traffic sign images, (num examples, width, height, channels).\n",
    "- `'labels'` is a 1D array containing the label/class id of the traffic sign. The file `signnames.csv` contains id -> name mappings for each id.\n",
    "- `'sizes'` is a list containing tuples, (width, height) representing the the original width and height the image.\n",
    "- `'coords'` is a list containing tuples, (x1, y1, x2, y2) representing coordinates of a bounding box around the sign in the image. **THESE COORDINATES ASSUME THE ORIGINAL IMAGE. THE PICKLED DATA CONTAINS RESIZED VERSIONS (32 by 32) OF THESE IMAGES**\n",
    "\n",
    "Complete the basic data summary below. Use python, numpy and/or pandas methods to calculate the data summary rather than hard coding the results. For example, the [pandas shape method](http://pandas.pydata.org/pandas-docs/stable/generated/pandas.DataFrame.shape.html) might be useful for calculating some of the summary results. "
   ]
  },
  {
   "cell_type": "markdown",
   "metadata": {
    "deletable": true,
    "editable": true
   },
   "source": [
    "### Provide a Basic Summary of the Data Set Using Python, Numpy and/or Pandas"
   ]
  },
  {
   "cell_type": "code",
   "execution_count": 2,
   "metadata": {
    "collapsed": false,
    "deletable": true,
    "editable": true
   },
   "outputs": [
    {
     "name": "stdout",
     "output_type": "stream",
     "text": [
      "Number of training examples = 34799\n",
      "Number of testing examples = 12630\n",
      "Image data shape = (32, 32, 3)\n",
      "Number of classes = 43\n"
     ]
    }
   ],
   "source": [
    "### Replace each question mark with the appropriate value. \n",
    "### Use python, pandas or numpy methods rather than hard coding the results\n",
    "\n",
    "# TODO: Number of training examples\n",
    "n_train = len(X_train_original)\n",
    "\n",
    "# TODO: Number of testing examples.\n",
    "n_test = len(X_test_original)\n",
    "\n",
    "# TODO: What's the shape of an traffic sign image?\n",
    "image_shape = np.array(X_train_original[0]).shape\n",
    "\n",
    "# TODO: How many unique classes/labels there are in the dataset.\n",
    "n_classes = len(set(y_train_original))\n",
    "\n",
    "print(\"Number of training examples =\", n_train)\n",
    "print(\"Number of testing examples =\", n_test)\n",
    "print(\"Image data shape =\", image_shape)\n",
    "print(\"Number of classes =\", n_classes)"
   ]
  },
  {
   "cell_type": "markdown",
   "metadata": {
    "deletable": true,
    "editable": true
   },
   "source": [
    "### Include an exploratory visualization of the dataset"
   ]
  },
  {
   "cell_type": "markdown",
   "metadata": {
    "deletable": true,
    "editable": true
   },
   "source": [
    "Visualize the German Traffic Signs Dataset using the pickled file(s). This is open ended, suggestions include: plotting traffic sign images, plotting the count of each sign, etc.\n",
    "\n",
    "The [Matplotlib](http://matplotlib.org/) [examples](http://matplotlib.org/examples/index.html) and [gallery](http://matplotlib.org/gallery.html) pages are a great resource for doing visualizations in Python.\n",
    "\n",
    "**NOTE:** It's recommended you start with something simple first. If you wish to do more, come back to it after you've completed the rest of the sections."
   ]
  },
  {
   "cell_type": "code",
   "execution_count": 3,
   "metadata": {
    "collapsed": false,
    "deletable": true,
    "editable": true
   },
   "outputs": [
    {
     "data": {
      "text/plain": [
       "<matplotlib.image.AxesImage at 0x7ff9f5c4fb38>"
      ]
     },
     "execution_count": 3,
     "metadata": {},
     "output_type": "execute_result"
    },
    {
     "data": {
      "image/png": "[encoded data removed]",
      "text/plain": [
       "<matplotlib.figure.Figure at 0x7ffa1813e160>"
      ]
     },
     "metadata": {},
     "output_type": "display_data"
    }
   ],
   "source": [
    "### Data exploration visualization code goes here.\n",
    "### Feel free to use as many code cells as needed.\n",
    "import random\n",
    "import matplotlib.pyplot as plt\n",
    "# Visualizations will be shown in the notebook.\n",
    "%matplotlib inline\n",
    "\n",
    "plt.imshow(X_train_original[random.randrange(n_train)])"
   ]
  },
  {
   "cell_type": "markdown",
   "metadata": {
    "deletable": true,
    "editable": true
   },
   "source": [
    "----\n",
    "\n",
    "## Step 2: Design and Test a Model Architecture\n",
    "\n",
    "Design and implement a deep learning model that learns to recognize traffic signs. Train and test your model on the [German Traffic Sign Dataset](http://benchmark.ini.rub.de/?section=gtsrb&subsection=dataset).\n",
    "\n",
    "There are various aspects to consider when thinking about this problem:\n",
    "\n",
    "- Neural network architecture\n",
    "- Play around preprocessing techniques (normalization, rgb to grayscale, etc)\n",
    "- Number of examples per label (some have more than others).\n",
    "- Generate fake data.\n",
    "\n",
    "Here is an example of a [published baseline model on this problem](http://yann.lecun.com/exdb/publis/pdf/sermanet-ijcnn-11.pdf). It's not required to be familiar with the approach used in the paper but, it's good practice to try to read papers like these.\n",
    "\n",
    "**NOTE:** The LeNet-5 implementation shown in the [classroom](https://classroom.udacity.com/nanodegrees/nd013/parts/fbf77062-5703-404e-b60c-95b78b2f3f9e/modules/6df7ae49-c61c-4bb2-a23e-6527e69209ec/lessons/601ae704-1035-4287-8b11-e2c2716217ad/concepts/d4aca031-508f-4e0b-b493-e7b706120f81) at the end of the CNN lesson is a solid starting point. You'll have to change the number of classes and possibly the preprocessing, but aside from that it's plug and play!"
   ]
  },
  {
   "cell_type": "markdown",
   "metadata": {
    "deletable": true,
    "editable": true
   },
   "source": [
    "### Pre-process the Data Set (normalization, grayscale, etc.)"
   ]
  },
  {
   "cell_type": "markdown",
   "metadata": {
    "deletable": true,
    "editable": true
   },
   "source": [
    "Use the code cell (or multiple code cells, if necessary) to implement the first step of your project."
   ]
  },
  {
   "cell_type": "code",
   "execution_count": 6,
   "metadata": {
    "collapsed": false
   },
   "outputs": [],
   "source": [
    "# Color Jitter Augment from https://github.com/dmlc/mxnet/blob/master/python/mxnet/image.py\n",
    "import random\n",
    "def RandomOrderAug(ts):\n",
    "    \"\"\"Apply list of augmenters in random order\"\"\"\n",
    "    def aug(src):\n",
    "        \"\"\"Augumenter body\"\"\"\n",
    "        src = [src]\n",
    "        random.shuffle(ts)\n",
    "        for t in ts:\n",
    "            src = [j for i in src for j in t(i)]\n",
    "        return src\n",
    "    return aug\n",
    "\n",
    "def ColorJitterAug(brightness, contrast, saturation):\n",
    "    \"\"\"Apply random brightness, contrast and saturation jitter in random order\"\"\"\n",
    "    ts = []\n",
    "    coef = np.array([[[0.299, 0.587, 0.114]]])\n",
    "    if brightness > 0:\n",
    "        def baug(src):\n",
    "            \"\"\"Augumenter body\"\"\"\n",
    "            alpha = 1.0 + random.uniform(-brightness, brightness)\n",
    "            src *= alpha\n",
    "            return [src]\n",
    "        ts.append(baug)\n",
    "\n",
    "    if contrast > 0:\n",
    "        def caug(src):\n",
    "            \"\"\"Augumenter body\"\"\"\n",
    "            alpha = 1.0 + random.uniform(-contrast, contrast)\n",
    "            gray = src*coef\n",
    "            gray = (3.0*(1.0-alpha)/gray.size)*np.sum(gray)\n",
    "            src *= alpha\n",
    "            src += gray\n",
    "            return [src]\n",
    "        ts.append(caug)\n",
    "\n",
    "    if saturation > 0:\n",
    "        def saug(src):\n",
    "            \"\"\"Augumenter body\"\"\"\n",
    "            alpha = 1.0 + random.uniform(-saturation, saturation)\n",
    "            gray = src*coef\n",
    "            gray = np.sum(gray, axis=2, keepdims=True)\n",
    "            gray *= (1.0-alpha)\n",
    "            src *= alpha\n",
    "            src += gray\n",
    "            return [src]\n",
    "        ts.append(saug)\n",
    "    return RandomOrderAug(ts)\n",
    "\n",
    "\n",
    "color_jitter = ColorJitterAug(0.5, 0.5, 0.5)"
   ]
  },
  {
   "cell_type": "code",
   "execution_count": 19,
   "metadata": {
    "collapsed": false,
    "deletable": true,
    "editable": true
   },
   "outputs": [
    {
     "data": {
      "text/plain": [
       "<matplotlib.image.AxesImage at 0x7ff9bb5178d0>"
      ]
     },
     "execution_count": 19,
     "metadata": {},
     "output_type": "execute_result"
    },
    {
     "data": {
      "image/png": "[encoded data removed]",
      "text/plain": [
       "<matplotlib.figure.Figure at 0x7ff9bb7d2400>"
      ]
     },
     "metadata": {},
     "output_type": "display_data"
    }
   ],
   "source": [
    "### Preprocess the data here. Preprocessing steps could include normalization, converting to grayscale, etc.\n",
    "### Feel free to use as many code cells as needed.\n",
    "\n",
    "X_train = (X_train_original - 127.0) / 127.0\n",
    "\n",
    "X_valid = (X_valid_original - 127.0) / 127.0\n",
    "X_test  = (X_test_original - 127.0) / 127.0\n",
    "\n",
    "y_train_onehot = np.zeros(shape=(len(y_train_original), n_classes))\n",
    "y_train_onehot[np.arange(len(y_train_original)), y_train_original] = 1\n",
    "y_train = y_train_onehot\n",
    "\n",
    "y_valid_onehot = np.zeros(shape=(len(y_valid_original), n_classes))\n",
    "y_valid_onehot[np.arange(len(y_valid_original)), y_valid_original] = 1\n",
    "y_valid = y_valid_onehot\n",
    "\n",
    "y_test_onehot = np.zeros(shape=(len(y_test_original), n_classes))\n",
    "y_test_onehot[np.arange(len(y_test_original)), y_test_original] = 1\n",
    "y_test = y_test_onehot\n",
    "\n",
    "plt.imshow(X_train[1])"
   ]
  },
  {
   "cell_type": "markdown",
   "metadata": {
    "deletable": true,
    "editable": true
   },
   "source": [
    "### Model Architecture"
   ]
  },
  {
   "cell_type": "code",
   "execution_count": 33,
   "metadata": {
    "collapsed": false,
    "deletable": true,
    "editable": true
   },
   "outputs": [],
   "source": [
    "import numpy as np\n",
    "import tensorflow as tf\n",
    "\n",
    "### Define your architecture here.\n",
    "### Feel free to use as many code cells as needed.\n",
    "\n",
    "mu = 0\n",
    "sigma = 0.1\n",
    "hasCuDNN = True\n",
    "# n_classes = 43\n",
    "\n",
    "keep_prob = tf.placeholder(tf.float32)\n",
    "\n",
    "def traffic_sign_classifier(x):\n",
    "   \n",
    "    #\n",
    "    # Layer 1: 5x5x3 convolution\n",
    "    #\n",
    "\n",
    "    # 32 x 32 x 3 -> 28 x 28 x 6\n",
    "    l1_filter = tf.Variable(tf.truncated_normal([5, 5, 3, 6], mean=mu, stddev=sigma), name=\"l1_filter\")\n",
    "    l1_bias = tf.Variable(tf.zeros(6), name=\"l1_bias\")\n",
    "    \n",
    "    l1_conv   = tf.nn.conv2d(x, l1_filter, [1, 1, 1, 1], 'VALID', use_cudnn_on_gpu=hasCuDNN)\n",
    "    l1_biased = tf.nn.bias_add(l1_conv, l1_bias)\n",
    "    \n",
    "    # Activation\n",
    "    l1_activation = tf.nn.relu(l1_biased)\n",
    "    \n",
    "    # Pooling\n",
    "    \n",
    "    # 28 x 28 x 6 -> 14 x 14 x 6\n",
    "    l1_pool = tf.nn.max_pool(l1_activation, [1, 2, 2, 1], [1, 2, 2, 1], 'VALID')\n",
    "    \n",
    "    \n",
    "    # \n",
    "    # Layer 2: 5x5x6 convolution\n",
    "    # \n",
    "    \n",
    "    \n",
    "    l2_filter = tf.Variable(tf.truncated_normal([5, 5, 6, 16], mean=mu, stddev=sigma), name=\"l2_filter\")\n",
    "    l2_bias = tf.Variable(tf.zeros(16), name=\"l2_bias\")\n",
    "    # 14 x 14 x 6 -> 10 x 10 x 16\n",
    "    l2_conv   = tf.nn.conv2d(l1_pool, l2_filter, [1, 1, 1, 1], 'VALID', use_cudnn_on_gpu=hasCuDNN)\n",
    "    l2_biased = tf.nn.bias_add(l2_conv, l2_bias)\n",
    "    \n",
    "    # Activation\n",
    "    l2_activation = tf.nn.relu(l2_biased)\n",
    "\n",
    "    # Pooling\n",
    "    # 10 x 10 x 16 -> 5 x 5 x 16\n",
    "    l2_pool = tf.nn.max_pool(l2_activation, [1, 2, 2, 1], [1, 2, 2, 1], 'VALID')\n",
    "    \n",
    "    \n",
    "    # \n",
    "    # Layer 3: 1x1x16 convolution\n",
    "    # \n",
    "    \n",
    "    l2_1_filter = tf.Variable(tf.truncated_normal([1, 1, 16, 24], mean=mu, stddev=sigma), name=\"l2_1_filter\")\n",
    "    l2_1_bias   = tf.Variable(tf.zeros(24), \"l2_1_bias\")\n",
    "    # 5 x 5 x 16 -> 5 x 5 x 24\n",
    "    l2_1_conv   = tf.nn.conv2d(l2_pool, l2_1_filter, [1,1,1,1], 'VALID', use_cudnn_on_gpu=hasCuDNN)\n",
    "    l2_1_biased = tf.nn.bias_add(l2_1_conv, l2_1_bias)\n",
    "    \n",
    "    # Pooling\n",
    "    # 5 x 5 x 24 -> 2 x 2 x 24\n",
    "    # l2_1_pool   = tf.nn.max_pool(l2_1_biased, [1,2,2,1], [1,2,2,1], 'VALID')\n",
    "    \n",
    "    # Dropout\n",
    "    l2_1_dropout = tf.nn.dropout(l2_1_biased, keep_prob)\n",
    "    \n",
    "    # Flatten\n",
    "    l3_weights = tf.Variable(tf.truncated_normal([600, 120], mean=mu, stddev=sigma), name=\"l3_weights\")\n",
    "    # 5 x 5 x 24 -> 600 x 1\n",
    "    l2_flatten = tf.reshape(l2_1_dropout, [-1, l3_weights.get_shape().as_list()[0]])\n",
    "    \n",
    "    \n",
    "    # \n",
    "    # Layer 4: Simple fully connected layer\n",
    "    # \n",
    "    l3_biases  = tf.Variable(tf.zeros(120), name=\"l3_biases\")\n",
    "    # 600 x 1 -> 120 x 1\n",
    "    l3_value   = tf.matmul(l2_flatten, l3_weights) + l3_biases\n",
    "    \n",
    "    # Activation\n",
    "    l3_activation = tf.nn.relu(l3_value)\n",
    "    \n",
    "    l3_dropout    = tf.nn.dropout(l3_activation, keep_prob)\n",
    "    \n",
    "    # \n",
    "    # Layer 5: Another layer\n",
    "    # \n",
    "    l4_weights = tf.Variable(tf.truncated_normal([120, 84], mean=mu, stddev=sigma), name=\"l4_weights\")\n",
    "    l4_biases  = tf.Variable(tf.zeros(84), name=\"l4_biases\")\n",
    "    \n",
    "    # 120 x 1 -> 84 x 1\n",
    "    l4_value   = tf.matmul(l3_dropout, l4_weights) + l4_biases\n",
    "    l4_activation = tf.nn.relu(l4_value)\n",
    "\n",
    "    l5_weights = tf.Variable(tf.truncated_normal([84, n_classes], mean=mu, stddev=sigma), name=\"l5_weights\")\n",
    "    l5_biases  = tf.Variable(tf.zeros(n_classes), name=\"l5_biases\")\n",
    "    \n",
    "    # 84 x 1 -> n_classes (43) x 1\n",
    "    logits     = tf.matmul(l4_activation, l5_weights) + l5_biases\n",
    "    \n",
    "    return logits"
   ]
  },
  {
   "cell_type": "markdown",
   "metadata": {
    "deletable": true,
    "editable": true
   },
   "source": [
    "### Train, Validate and Test the Model"
   ]
  },
  {
   "cell_type": "markdown",
   "metadata": {
    "deletable": true,
    "editable": true
   },
   "source": [
    "A validation set can be used to assess how well the model is performing. A low accuracy on the training and validation\n",
    "sets imply underfitting. A high accuracy on the training set but low accuracy on the validation set implies overfitting."
   ]
  },
  {
   "cell_type": "code",
   "execution_count": 37,
   "metadata": {
    "collapsed": false,
    "deletable": true,
    "editable": true
   },
   "outputs": [
    {
     "name": "stdout",
     "output_type": "stream",
     "text": [
      "EPOCH\tACC\tTIME\n",
      "1\t0.179\t1.487\n",
      "2\t0.355\t1.305\n",
      "3\t0.504\t1.301\n",
      "4\t0.597\t1.306\n",
      "5\t0.691\t1.298\n",
      "6\t0.760\t1.304\n",
      "7\t0.816\t1.298\n",
      "8\t0.826\t1.306\n",
      "9\t0.849\t1.304\n",
      "10\t0.853\t1.301\n",
      "11\t0.868\t1.303\n",
      "12\t0.882\t1.305\n",
      "13\t0.877\t1.296\n",
      "14\t0.886\t1.300\n",
      "15\t0.891\t1.300\n",
      "16\t0.900\t1.304\n",
      "17\t0.902\t1.305\n",
      "18\t0.910\t1.299\n",
      "19\t0.909\t1.299\n",
      "20\t0.908\t1.301\n",
      "21\t0.913\t1.301\n",
      "22\t0.916\t1.306\n",
      "23\t0.915\t1.301\n",
      "24\t0.915\t1.304\n",
      "25\t0.927\t1.298\n",
      "26\t0.923\t1.302\n",
      "27\t0.922\t1.298\n",
      "28\t0.924\t1.306\n",
      "29\t0.924\t1.296\n",
      "30\t0.925\t1.307\n",
      "31\t0.926\t1.299\n",
      "32\t0.927\t1.292\n",
      "33\t0.931\t1.296\n",
      "34\t0.930\t1.304\n",
      "35\t0.932\t1.291\n",
      "36\t0.929\t1.308\n",
      "37\t0.937\t1.302\n",
      "38\t0.928\t1.307\n",
      "39\t0.938\t1.298\n",
      "40\t0.939\t1.297\n",
      "41\t0.935\t1.302\n",
      "42\t0.934\t1.308\n",
      "43\t0.937\t1.301\n",
      "44\t0.941\t1.302\n",
      "45\t0.944\t1.300\n",
      "46\t0.941\t1.301\n",
      "47\t0.941\t1.305\n",
      "48\t0.938\t1.307\n",
      "49\t0.944\t1.288\n",
      "50\t0.941\t1.302\n",
      "51\t0.943\t1.299\n",
      "52\t0.946\t1.306\n",
      "53\t0.942\t1.302\n",
      "54\t0.943\t1.310\n",
      "55\t0.944\t1.298\n",
      "56\t0.942\t1.308\n",
      "57\t0.947\t1.296\n",
      "58\t0.945\t1.304\n",
      "59\t0.945\t1.303\n",
      "60\t0.951\t1.306\n",
      "61\t0.949\t1.302\n",
      "62\t0.949\t1.300\n",
      "63\t0.947\t1.301\n",
      "64\t0.946\t1.300\n",
      "65\t0.951\t1.305\n",
      "66\t0.949\t1.303\n",
      "67\t0.951\t1.299\n",
      "68\t0.952\t1.303\n",
      "69\t0.951\t1.303\n",
      "70\t0.950\t1.306\n",
      "71\t0.953\t1.303\n",
      "72\t0.953\t1.305\n",
      "73\t0.951\t1.302\n",
      "74\t0.952\t1.305\n",
      "75\t0.954\t1.302\n",
      "76\t0.949\t1.305\n",
      "77\t0.953\t1.303\n",
      "78\t0.949\t1.304\n",
      "79\t0.951\t1.304\n",
      "80\t0.949\t1.306\n",
      "81\t0.952\t1.302\n",
      "82\t0.954\t1.304\n",
      "83\t0.952\t1.298\n",
      "84\t0.954\t1.304\n",
      "85\t0.949\t1.315\n",
      "86\t0.951\t1.298\n",
      "87\t0.954\t1.298\n",
      "88\t0.956\t1.303\n",
      "89\t0.953\t1.299\n",
      "90\t0.953\t1.305\n",
      "91\t0.956\t1.293\n",
      "92\t0.955\t1.304\n",
      "93\t0.957\t1.307\n",
      "94\t0.959\t1.311\n",
      "95\t0.960\t1.306\n",
      "96\t0.954\t1.310\n",
      "97\t0.954\t1.298\n",
      "98\t0.956\t1.303\n",
      "99\t0.954\t1.303\n",
      "100\t0.956\t1.311\n",
      "101\t0.959\t1.304\n",
      "102\t0.958\t1.301\n",
      "103\t0.957\t1.299\n",
      "104\t0.960\t1.302\n",
      "105\t0.958\t1.298\n",
      "106\t0.959\t1.301\n",
      "107\t0.956\t1.302\n",
      "108\t0.959\t1.307\n",
      "109\t0.957\t1.297\n",
      "110\t0.962\t1.308\n",
      "111\t0.960\t1.298\n",
      "112\t0.956\t1.307\n",
      "113\t0.961\t1.300\n",
      "114\t0.960\t1.309\n",
      "115\t0.960\t1.297\n",
      "116\t0.960\t1.307\n",
      "117\t0.960\t1.298\n",
      "118\t0.961\t1.310\n",
      "119\t0.959\t1.302\n",
      "120\t0.963\t1.306\n",
      "Model saved\n"
     ]
    }
   ],
   "source": [
    "### Train your model here.\n",
    "### Calculate and report the accuracy on the training and validation set.\n",
    "### Once a final model architecture is selected, \n",
    "### the accuracy on the test set should be calculated and reported as well.\n",
    "### Feel free to use as many code cells as needed.\n",
    "from tensorflow.contrib.layers import flatten\n",
    "from sklearn.utils import shuffle\n",
    "import time\n",
    "\n",
    "learning_rate = 0.0005\n",
    "epochs = 120\n",
    "batch_size = 512\n",
    "\n",
    "\n",
    "# Placeholders\n",
    "x = tf.placeholder(tf.float32, (None, 32, 32, 3))\n",
    "y = tf.placeholder(tf.int32, (None))\n",
    "\n",
    "logits = traffic_sign_classifier(x)\n",
    "cross_entropy = tf.nn.softmax_cross_entropy_with_logits(logits, y)\n",
    "loss_operation = tf.reduce_mean(cross_entropy)\n",
    "optimizer = tf.train.AdamOptimizer(learning_rate=learning_rate)\n",
    "training_operation = optimizer.minimize(loss_operation)\n",
    "\n",
    "correct_prediction = tf.equal(tf.argmax(logits, 1), tf.argmax(y, 1))\n",
    "accuracy_operation = tf.reduce_mean(tf.cast(correct_prediction, tf.float32))\n",
    "saver = tf.train.Saver()\n",
    "\n",
    "def evaluate(X_data, y_data):\n",
    "    num_examples = len(X_data)\n",
    "    total_accuracy = 0\n",
    "    sess = tf.get_default_session()\n",
    "    for offset in range(0, num_examples, batch_size):\n",
    "        batch_x, batch_y = X_data[offset:offset+batch_size], y_data[offset:offset+batch_size]\n",
    "        accuracy = sess.run(accuracy_operation, feed_dict={x: batch_x, y: batch_y, keep_prob: 1})\n",
    "        total_accuracy += (accuracy * len(batch_x))\n",
    "    return total_accuracy / num_examples\n",
    "\n",
    "saved_checkpoint_name = None\n",
    "with tf.Session() as sess:\n",
    "    sess.run(tf.global_variables_initializer())\n",
    "    num_examples = len(X_train)\n",
    "\n",
    "    print(\"EPOCH\\tACC\\tTIME\")\n",
    "    for i in range(epochs):\n",
    "        X_train, y_train = shuffle(X_train, y_train)\n",
    "        losses = []\n",
    "        start_time = time.process_time()\n",
    "        for offset in range(0, num_examples, batch_size):\n",
    "            end = offset + batch_size\n",
    "            batch_x, batch_y = X_train[offset:end], y_train[offset:end]\n",
    "            sess.run(training_operation, feed_dict={x: batch_x, y: batch_y, keep_prob: 0.5})\n",
    "        end_time = time.process_time()\n",
    "        \n",
    "            \n",
    "        validation_accuracy = evaluate(X_valid, y_valid)\n",
    "        print(\"{}\\t{:.3f}\\t{:.3f}\".format(i+1, validation_accuracy, end_time - start_time))\n",
    "        \n",
    "    saved_checkpoint_name = saver.save(sess, '/output/TRAFFIC_SIGN_CLASSIFIER')\n",
    "    print(\"Model saved\")"
   ]
  },
  {
   "cell_type": "code",
   "execution_count": 43,
   "metadata": {
    "collapsed": false
   },
   "outputs": [
    {
     "name": "stdout",
     "output_type": "stream",
     "text": [
      "[[-15.95042992 -13.07635498 -13.36506081  -2.18585181 -21.85884476\n",
      "   -2.54493117  -6.50887728 -10.88541317  -9.43479919  -2.37498355\n",
      "   -0.84320652  -1.60382438  -8.6684885   -7.43349743 -12.57053947\n",
      "  -11.58440495  -6.88644314 -10.23722458  -7.76326275  -4.27589703\n",
      "    9.18835545 -15.14212704 -11.9066143    1.93635464 -11.33868694\n",
      "   -4.81640339  -6.5394268  -13.96879005   1.19752502  -8.42412281\n",
      "    0.24577516 -11.17115402  -4.66186571 -11.52266312  -2.13094115\n",
      "   -3.17935658  -6.11165667 -10.77462578  -2.72435093 -22.24943542\n",
      "   -7.20657301  -2.32445908  -4.72887754]]\n"
     ]
    }
   ],
   "source": [
    "# Running a model \n",
    "import os\n",
    "with tf.Session() as sess:\n",
    "    saver2 = tf.train.import_meta_graph('/output/TRAFFIC_SIGN_CLASSIFIER.meta')\n",
    "    saver2.restore(sess, '/output/TRAFFIC_SIGN_CLASSIFIER')\n",
    "    values = sess.run(logits, { x: [X_train[5]], keep_prob: 1 })\n",
    "    print(values)"
   ]
  },
  {
   "cell_type": "markdown",
   "metadata": {
    "deletable": true,
    "editable": true
   },
   "source": [
    "---\n",
    "\n",
    "## Step 3: Test a Model on New Images\n",
    "\n",
    "To give yourself more insight into how your model is working, download at least five pictures of German traffic signs from the web and use your model to predict the traffic sign type.\n",
    "\n",
    "You may find `signnames.csv` useful as it contains mappings from the class id (integer) to the actual sign name."
   ]
  },
  {
   "cell_type": "markdown",
   "metadata": {
    "deletable": true,
    "editable": true
   },
   "source": [
    "### Load and Output the Images"
   ]
  },
  {
   "cell_type": "code",
   "execution_count": null,
   "metadata": {
    "collapsed": true,
    "deletable": true,
    "editable": true
   },
   "outputs": [],
   "source": [
    "### Load the images and plot them here.\n",
    "### Feel free to use as many code cells as needed."
   ]
  },
  {
   "cell_type": "markdown",
   "metadata": {
    "deletable": true,
    "editable": true
   },
   "source": [
    "### Predict the Sign Type for Each Image"
   ]
  },
  {
   "cell_type": "code",
   "execution_count": 3,
   "metadata": {
    "collapsed": true,
    "deletable": true,
    "editable": true
   },
   "outputs": [],
   "source": [
    "### Run the predictions here and use the model to output the prediction for each image.\n",
    "### Make sure to pre-process the images with the same pre-processing pipeline used earlier.\n",
    "### Feel free to use as many code cells as needed."
   ]
  },
  {
   "cell_type": "markdown",
   "metadata": {
    "deletable": true,
    "editable": true
   },
   "source": [
    "### Analyze Performance"
   ]
  },
  {
   "cell_type": "code",
   "execution_count": 4,
   "metadata": {
    "collapsed": true,
    "deletable": true,
    "editable": true
   },
   "outputs": [],
   "source": [
    "### Calculate the accuracy for these 5 new images. \n",
    "### For example, if the model predicted 1 out of 5 signs correctly, it's 20% accurate on these new images."
   ]
  },
  {
   "cell_type": "markdown",
   "metadata": {
    "deletable": true,
    "editable": true
   },
   "source": [
    "### Output Top 5 Softmax Probabilities For Each Image Found on the Web"
   ]
  },
  {
   "cell_type": "markdown",
   "metadata": {
    "deletable": true,
    "editable": true
   },
   "source": [
    "For each of the new images, print out the model's softmax probabilities to show the **certainty** of the model's predictions (limit the output to the top 5 probabilities for each image). [`tf.nn.top_k`](https://www.tensorflow.org/versions/r0.12/api_docs/python/nn.html#top_k) could prove helpful here. \n",
    "\n",
    "The example below demonstrates how tf.nn.top_k can be used to find the top k predictions for each image.\n",
    "\n",
    "`tf.nn.top_k` will return the values and indices (class ids) of the top k predictions. So if k=3, for each sign, it'll return the 3 largest probabilities (out of a possible 43) and the correspoding class ids.\n",
    "\n",
    "Take this numpy array as an example. The values in the array represent predictions. The array contains softmax probabilities for five candidate images with six possible classes. `tk.nn.top_k` is used to choose the three classes with the highest probability:\n",
    "\n",
    "```\n",
    "# (5, 6) array\n",
    "a = np.array([[ 0.24879643,  0.07032244,  0.12641572,  0.34763842,  0.07893497,\n",
    "         0.12789202],\n",
    "       [ 0.28086119,  0.27569815,  0.08594638,  0.0178669 ,  0.18063401,\n",
    "         0.15899337],\n",
    "       [ 0.26076848,  0.23664738,  0.08020603,  0.07001922,  0.1134371 ,\n",
    "         0.23892179],\n",
    "       [ 0.11943333,  0.29198961,  0.02605103,  0.26234032,  0.1351348 ,\n",
    "         0.16505091],\n",
    "       [ 0.09561176,  0.34396535,  0.0643941 ,  0.16240774,  0.24206137,\n",
    "         0.09155967]])\n",
    "```\n",
    "\n",
    "Running it through `sess.run(tf.nn.top_k(tf.constant(a), k=3))` produces:\n",
    "\n",
    "```\n",
    "TopKV2(values=array([[ 0.34763842,  0.24879643,  0.12789202],\n",
    "       [ 0.28086119,  0.27569815,  0.18063401],\n",
    "       [ 0.26076848,  0.23892179,  0.23664738],\n",
    "       [ 0.29198961,  0.26234032,  0.16505091],\n",
    "       [ 0.34396535,  0.24206137,  0.16240774]]), indices=array([[3, 0, 5],\n",
    "       [0, 1, 4],\n",
    "       [0, 5, 1],\n",
    "       [1, 3, 5],\n",
    "       [1, 4, 3]], dtype=int32))\n",
    "```\n",
    "\n",
    "Looking just at the first row we get `[ 0.34763842,  0.24879643,  0.12789202]`, you can confirm these are the 3 largest probabilities in `a`. You'll also notice `[3, 0, 5]` are the corresponding indices."
   ]
  },
  {
   "cell_type": "code",
   "execution_count": 6,
   "metadata": {
    "collapsed": true,
    "deletable": true,
    "editable": true
   },
   "outputs": [],
   "source": [
    "### Print out the top five softmax probabilities for the predictions on the German traffic sign images found on the web. \n",
    "### Feel free to use as many code cells as needed."
   ]
  },
  {
   "cell_type": "markdown",
   "metadata": {
    "deletable": true,
    "editable": true
   },
   "source": [
    "---\n",
    "\n",
    "## Step 4: Visualize the Neural Network's State with Test Images\n",
    "\n",
    " This Section is not required to complete but acts as an additional excersise for understaning the output of a neural network's weights. While neural networks can be a great learning device they are often referred to as a black box. We can understand what the weights of a neural network look like better by plotting their feature maps. After successfully training your neural network you can see what it's feature maps look like by plotting the output of the network's weight layers in response to a test stimuli image. From these plotted feature maps, it's possible to see what characteristics of an image the network finds interesting. For a sign, maybe the inner network feature maps react with high activation to the sign's boundary outline or to the contrast in the sign's painted symbol.\n",
    "\n",
    " Provided for you below is the function code that allows you to get the visualization output of any tensorflow weight layer you want. The inputs to the function should be a stimuli image, one used during training or a new one you provided, and then the tensorflow variable name that represents the layer's state during the training process, for instance if you wanted to see what the [LeNet lab's](https://classroom.udacity.com/nanodegrees/nd013/parts/fbf77062-5703-404e-b60c-95b78b2f3f9e/modules/6df7ae49-c61c-4bb2-a23e-6527e69209ec/lessons/601ae704-1035-4287-8b11-e2c2716217ad/concepts/d4aca031-508f-4e0b-b493-e7b706120f81) feature maps looked like for it's second convolutional layer you could enter conv2 as the tf_activation variable.\n",
    "\n",
    "For an example of what feature map outputs look like, check out NVIDIA's results in their paper [End-to-End Deep Learning for Self-Driving Cars](https://devblogs.nvidia.com/parallelforall/deep-learning-self-driving-cars/) in the section Visualization of internal CNN State. NVIDIA was able to show that their network's inner weights had high activations to road boundary lines by comparing feature maps from an image with a clear path to one without. Try experimenting with a similar test to show that your trained network's weights are looking for interesting features, whether it's looking at differences in feature maps from images with or without a sign, or even what feature maps look like in a trained network vs a completely untrained one on the same sign image.\n",
    "\n",
    "<figure>\n",
    " <img src=\"visualize_cnn.png\" width=\"380\" alt=\"Combined Image\" />\n",
    " <figcaption>\n",
    " <p></p> \n",
    " <p style=\"text-align: center;\"> Your output should look something like this (above)</p> \n",
    " </figcaption>\n",
    "</figure>\n",
    " <p></p> \n"
   ]
  },
  {
   "cell_type": "code",
   "execution_count": null,
   "metadata": {
    "collapsed": true,
    "deletable": true,
    "editable": true
   },
   "outputs": [],
   "source": [
    "### Visualize your network's feature maps here.\n",
    "### Feel free to use as many code cells as needed.\n",
    "\n",
    "# image_input: the test image being fed into the network to produce the feature maps\n",
    "# tf_activation: should be a tf variable name used during your training procedure that represents the calculated state of a specific weight layer\n",
    "# activation_min/max: can be used to view the activation contrast in more detail, by default matplot sets min and max to the actual min and max values of the output\n",
    "# plt_num: used to plot out multiple different weight feature map sets on the same block, just extend the plt number for each new feature map entry\n",
    "\n",
    "def outputFeatureMap(image_input, tf_activation, activation_min=-1, activation_max=-1 ,plt_num=1):\n",
    "    # Here make sure to preprocess your image_input in a way your network expects\n",
    "    # with size, normalization, ect if needed\n",
    "    # image_input =\n",
    "    # Note: x should be the same name as your network's tensorflow data placeholder variable\n",
    "    # If you get an error tf_activation is not defined it maybe having trouble accessing the variable from inside a function\n",
    "    activation = tf_activation.eval(session=sess,feed_dict={x : image_input})\n",
    "    featuremaps = activation.shape[3]\n",
    "    plt.figure(plt_num, figsize=(15,15))\n",
    "    for featuremap in range(featuremaps):\n",
    "        plt.subplot(6,8, featuremap+1) # sets the number of feature maps to show on each row and column\n",
    "        plt.title('FeatureMap ' + str(featuremap)) # displays the feature map number\n",
    "        if activation_min != -1 & activation_max != -1:\n",
    "            plt.imshow(activation[0,:,:, featuremap], interpolation=\"nearest\", vmin =activation_min, vmax=activation_max, cmap=\"gray\")\n",
    "        elif activation_max != -1:\n",
    "            plt.imshow(activation[0,:,:, featuremap], interpolation=\"nearest\", vmax=activation_max, cmap=\"gray\")\n",
    "        elif activation_min !=-1:\n",
    "            plt.imshow(activation[0,:,:, featuremap], interpolation=\"nearest\", vmin=activation_min, cmap=\"gray\")\n",
    "        else:\n",
    "            plt.imshow(activation[0,:,:, featuremap], interpolation=\"nearest\", cmap=\"gray\")"
   ]
  },
  {
   "cell_type": "markdown",
   "metadata": {
    "deletable": true,
    "editable": true
   },
   "source": [
    "### Question 9\n",
    "\n",
    "Discuss how you used the visual output of your trained network's feature maps to show that it had learned to look for interesting characteristics in traffic sign images\n"
   ]
  },
  {
   "cell_type": "markdown",
   "metadata": {
    "deletable": true,
    "editable": true
   },
   "source": [
    "**Answer:**"
   ]
  },
  {
   "cell_type": "markdown",
   "metadata": {
    "deletable": true,
    "editable": true
   },
   "source": [
    "> **Note**: Once you have completed all of the code implementations and successfully answered each question above, you may finalize your work by exporting the iPython Notebook as an HTML document. You can do this by using the menu above and navigating to  \\n\",\n",
    "    \"**File -> Download as -> HTML (.html)**. Include the finished document along with this notebook as your submission."
   ]
  },
  {
   "cell_type": "markdown",
   "metadata": {
    "deletable": true,
    "editable": true
   },
   "source": [
    "### Project Writeup\n",
    "\n",
    "Once you have completed the code implementation, document your results in a project writeup using this [template](https://github.com/udacity/CarND-Traffic-Sign-Classifier-Project/blob/master/writeup_template.md) as a guide. The writeup can be in a markdown or pdf file. "
   ]
  }
 ],
 "metadata": {
  "anaconda-cloud": {},
  "kernelspec": {
   "display_name": "Python 3",
   "language": "python",
   "name": "python3"
  },
  "language_info": {
   "codemirror_mode": {
    "name": "ipython",
    "version": 3
   },
   "file_extension": ".py",
   "mimetype": "text/x-python",
   "name": "python",
   "nbconvert_exporter": "python",
   "pygments_lexer": "ipython3",
   "version": "3.5.3"
  }
 },
 "nbformat": 4,
 "nbformat_minor": 1
}
